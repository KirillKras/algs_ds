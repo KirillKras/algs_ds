{
 "cells": [
  {
   "cell_type": "code",
   "execution_count": 108,
   "metadata": {
    "pycharm": {
     "is_executing": false
    }
   },
   "outputs": [],
   "source": [
    "import numpy as np\n",
    "from sklearn import datasets\n",
    "import matplotlib.pyplot as plt"
   ]
  },
  {
   "cell_type": "code",
   "execution_count": 109,
   "metadata": {
    "pycharm": {
     "is_executing": false,
     "name": "#%%\n"
    }
   },
   "outputs": [],
   "source": [
    "data, target, coef = datasets.make_regression(n_samples=1000, n_features = 2, n_informative = 2, n_targets = 1, \n",
    "                                              noise = 5, coef = True, random_state = 2)"
   ]
  },
  {
   "cell_type": "code",
   "execution_count": 110,
   "metadata": {
    "pycharm": {
     "is_executing": false,
     "name": "#%%\n"
    }
   },
   "outputs": [],
   "source": [
    "def calc_mse(y, y_pred):\n",
    "  return np.mean((y - y_pred)**2)"
   ]
  },
  {
   "cell_type": "markdown",
   "metadata": {},
   "source": [
    "### Задание 1. Сгенерировать датасет при помощи sklearn.datasets.make_regression и обучить линейную модель при помощи градиентного и стохастического градиентного спуска. Нанести среднеквадратичную ошибку для обоих методов на один график, сделать выводы о разнице скорости сходимости каждого из методов."
   ]
  },
  {
   "cell_type": "code",
   "execution_count": 111,
   "metadata": {
    "pycharm": {
     "is_executing": false,
     "name": "#%%\n"
    }
   },
   "outputs": [],
   "source": [
    "def default_regression(data, target, alpha=1e-3, \n",
    "                       min_dist=1e-7, max_iter=1e+5):\n",
    "    n = len(target)\n",
    "    W = np.array([1, 0.5])\n",
    "    delta_w = np.inf\n",
    "    iter_ = 0\n",
    "    iter_err = []\n",
    "    while (delta_w > min_dist) and (iter_ < max_iter):\n",
    "        iter_ += 1\n",
    "        y_pred = np.dot(W, data.T)\n",
    "        err = calc_mse(target, y_pred)\n",
    "        W_new = W - alpha * (1/n * 2 * (data.T @ (y_pred - target)))    \n",
    "        delta_w = np.abs(np.linalg.norm(W_new - W, ord=2)) #np.abs(err_new-err) \n",
    "        W = W_new\n",
    "        iter_err.append(err)\n",
    "        if iter_ % 10000 == 0:\n",
    "            print(iter_, W, delta_mean)\n",
    "    return W, np.array(iter_err)"
   ]
  },
  {
   "cell_type": "code",
   "execution_count": 112,
   "metadata": {
    "pycharm": {
     "is_executing": false,
     "name": "#%%\n"
    }
   },
   "outputs": [],
   "source": [
    "def stochastic_regression(data, target, alpha=1e-3, \n",
    "                       min_dist=1e-7, max_iter=1e+5):\n",
    "    n = data.shape[1]\n",
    "    W = np.array([1, 0.5])\n",
    "    delta_w = np.inf\n",
    "    delta_err = np.inf\n",
    "    \n",
    "    iter_ = 0\n",
    "    iter_err = []\n",
    "    while (delta_w > min_dist) and (iter_ < max_iter):\n",
    "        train_id = np.random.randint(data.shape[0])\n",
    "        y_pred = np.dot(data[train_id], W)\n",
    "        err = calc_mse(target, data.dot(W))\n",
    "        W_new = W - alpha * (1/n * 2 * np.dot(data[train_id].T, (y_pred - target[train_id])))    \n",
    "        delta_w = np.abs(np.linalg.norm(W_new - W, ord=2)) #np.abs(err_new-err)\n",
    "        if iter_ > 0:\n",
    "            delta_err = np.abs(err - iter_err[iter_ - 1])\n",
    "        W = W_new\n",
    "        iter_ += 1\n",
    "        iter_err.append(err)\n",
    "        if iter_ % 10000 == 0:\n",
    "            print(iter_, W, delta_w, delta_err)\n",
    "    return W, np.array(iter_err)\n"
   ]
  },
  {
   "cell_type": "code",
   "execution_count": 113,
   "metadata": {
    "pycharm": {
     "is_executing": false,
     "name": "#%%\n"
    }
   },
   "outputs": [],
   "source": [
    "W, iter_err = default_regression(data, target)"
   ]
  },
  {
   "cell_type": "code",
   "execution_count": 114,
   "metadata": {
    "pycharm": {
     "is_executing": false,
     "name": "#%%\n"
    }
   },
   "outputs": [
    {
     "name": "stdout",
     "output_type": "stream",
     "text": [
      "10000 [62.25636211 68.4855564 ] 0.0027935289610198036 0.00022289003299391652\n",
      "20000 [62.40701811 68.26366465] 0.006071345579858701 7.300520248065823e-05\n",
      "30000 [62.64355148 68.18962038] 0.007934513479694039 0.002714614684400374\n"
     ]
    }
   ],
   "source": [
    "W_st, iter_err_st = stochastic_regression(data, target)"
   ]
  },
  {
   "cell_type": "code",
   "execution_count": 115,
   "metadata": {
    "pycharm": {
     "is_executing": false,
     "name": "#%%\n"
    }
   },
   "outputs": [
    {
     "data": {
      "text/plain": [
       "(0.0, 5000.0)"
      ]
     },
     "execution_count": 115,
     "metadata": {},
     "output_type": "execute_result"
    },
    {
     "data": {
      "image/png": "[encoded data removed]",
      "text/plain": [
       "<Figure size 432x288 with 1 Axes>"
      ]
     },
     "metadata": {
      "needs_background": "light"
     },
     "output_type": "display_data"
    }
   ],
   "source": [
    "plt.plot(iter_err, 'r')\n",
    "plt.plot(iter_err_st, 'g')\n",
    "plt.title('MSE')\n",
    "plt.xlabel('Iteration number')\n",
    "plt.ylabel('MSE')\n",
    "plt.xlim(0, 5000)"
   ]
  },
  {
   "cell_type": "markdown",
   "metadata": {
    "pycharm": {
     "name": "#%% md\n"
    }
   },
   "source": [
    "При стохастической регрессии сходимость наступает медленнее"
   ]
  },
  {
   "cell_type": "markdown",
   "metadata": {},
   "source": [
    "### Задание 2. Модифицировать решение первого задания путем добавления  𝐿2 -регуляризации (в функцию, считающую MSE, нужно добавить норму вектора весов) и сравнить результаты."
   ]
  },
  {
   "cell_type": "code",
   "execution_count": 116,
   "metadata": {
    "pycharm": {
     "is_executing": false,
     "name": "#%%\n"
    }
   },
   "outputs": [],
   "source": [
    "def default_regression_l2(data, target, alpha=1e-3, \n",
    "                       min_dist=1e-7, max_iter=1e+5, lambda_=1e-8):\n",
    "    n = len(target)\n",
    "    W = np.array([1, 0.5])\n",
    "    delta_w = np.inf\n",
    "    iter_ = 0\n",
    "    iter_err = []\n",
    "    while (delta_w > min_dist) and (iter_ < max_iter):\n",
    "        iter_ += 1\n",
    "        y_pred = np.dot(W, data.T)\n",
    "        err = calc_mse(target, y_pred)\n",
    "        W_new = W - alpha * (1/n * 2 * (data.T @ (y_pred - target)) + lambda_ * W)    \n",
    "        delta_w = np.abs(np.linalg.norm(W_new - W, ord=2)) #np.abs(err_new-err) \n",
    "        W = W_new\n",
    "        iter_err.append(err)\n",
    "        if iter_ % 1000 == 0:\n",
    "            print(iter_, W, delta_w)\n",
    "    return W, np.array(iter_err)"
   ]
  },
  {
   "cell_type": "code",
   "execution_count": 117,
   "metadata": {
    "pycharm": {
     "name": "#%%\n"
    }
   },
   "outputs": [],
   "source": [
    "def stochastic_regression_l2(data, target, alpha=1e-3, \n",
    "                       min_dist=1e-7, max_iter=1e+5, lambda_=1e-7):\n",
    "    n = data.shape[1]\n",
    "    W = np.array([1, 0.5])\n",
    "    delta_w = np.inf\n",
    "    delta_err = np.inf\n",
    "    \n",
    "    iter_ = 0\n",
    "    iter_err = []\n",
    "    while (delta_w > min_dist) and (iter_ < max_iter):\n",
    "        train_id = np.random.randint(data.shape[0])\n",
    "        y_pred = np.dot(data[train_id], W)\n",
    "        err = calc_mse(target, data.dot(W))\n",
    "        W_new = W - alpha * (1/n * 2 * np.dot(data[train_id].T, (y_pred - target[train_id])) + lambda_*W)    \n",
    "        delta_w = np.abs(np.linalg.norm(W_new - W, ord=2)) #np.abs(err_new-err)\n",
    "        if iter_ > 0:\n",
    "            delta_err = np.abs(err - iter_err[iter_ - 1])\n",
    "        W = W_new\n",
    "        iter_ += 1\n",
    "        iter_err.append(err)\n",
    "        if iter_ % 10000 == 0:\n",
    "            print(iter_, W, delta_w, delta_err)\n",
    "    return W, np.array(iter_err)\n"
   ]
  },
  {
   "cell_type": "code",
   "execution_count": 118,
   "metadata": {
    "pycharm": {
     "name": "#%%\n"
    }
   },
   "outputs": [
    {
     "name": "stdout",
     "output_type": "stream",
     "text": [
      "1000 [53.17395528 58.35108406] 0.025848579444664566\n",
      "2000 [60.9629439  66.82416729] 0.0038192294946129165\n",
      "3000 [62.12459171 68.06621354] 0.0005643874930706298\n",
      "4000 [62.29768592 68.24842298] 8.341231939566976e-05\n",
      "5000 [62.3234579  68.27517232] 1.2328915838573845e-05\n",
      "6000 [62.32729239 68.27910183] 1.8224424293086126e-06\n",
      "7000 [62.32786254 68.27967943] 2.694081587635139e-07\n"
     ]
    }
   ],
   "source": [
    "W_l2, iter_err_l2 = default_regression_l2(data, target)"
   ]
  },
  {
   "cell_type": "code",
   "execution_count": 119,
   "metadata": {
    "pycharm": {
     "name": "#%%\n"
    }
   },
   "outputs": [
    {
     "name": "stdout",
     "output_type": "stream",
     "text": [
      "10000 [62.27537439 68.16533135] 0.005661521739916255 0.001819641696162222\n",
      "20000 [62.42013971 68.45777526] 4.240364726106462e-05 0.0007998353670437552\n"
     ]
    }
   ],
   "source": [
    "W_st_l2, iter_err_st_l2 = stochastic_regression_l2(data, target)"
   ]
  },
  {
   "cell_type": "code",
   "execution_count": 120,
   "metadata": {},
   "outputs": [
    {
     "data": {
      "text/plain": [
       "(0.0, 3000.0)"
      ]
     },
     "execution_count": 120,
     "metadata": {},
     "output_type": "execute_result"
    },
    {
     "data": {
      "image/png": "[encoded data removed]",
      "text/plain": [
       "<Figure size 432x288 with 1 Axes>"
      ]
     },
     "metadata": {
      "needs_background": "light"
     },
     "output_type": "display_data"
    }
   ],
   "source": [
    "plt.plot(iter_err_l2, 'r')\n",
    "plt.plot(iter_err_st_l2, 'g')\n",
    "plt.title('MSE')\n",
    "plt.xlabel('Iteration number')\n",
    "plt.ylabel('MSE')\n",
    "plt.xlim(0, 3000)"
   ]
  },
  {
   "cell_type": "code",
   "execution_count": 121,
   "metadata": {},
   "outputs": [
    {
     "data": {
      "text/plain": [
       "(7519, 7519)"
      ]
     },
     "execution_count": 121,
     "metadata": {},
     "output_type": "execute_result"
    }
   ],
   "source": [
    "len(iter_err), len(iter_err_l2)"
   ]
  },
  {
   "cell_type": "code",
   "execution_count": 122,
   "metadata": {},
   "outputs": [
    {
     "data": {
      "text/plain": [
       "(39570, 26469)"
      ]
     },
     "execution_count": 122,
     "metadata": {},
     "output_type": "execute_result"
    }
   ],
   "source": [
    "len(iter_err_st), len(iter_err_st_l2)"
   ]
  },
  {
   "cell_type": "code",
   "execution_count": 123,
   "metadata": {},
   "outputs": [
    {
     "data": {
      "text/plain": [
       "(array([62.22478278, 68.29081273]), array([62.6735955, 68.0472182]))"
      ]
     },
     "execution_count": 123,
     "metadata": {},
     "output_type": "execute_result"
    }
   ],
   "source": [
    "W_st_l2, coef"
   ]
  },
  {
   "cell_type": "markdown",
   "metadata": {},
   "source": [
    "Введение L2 регуляризации значительно увеличивает скорость сходимости для стохастической регрессии."
   ]
  },
  {
   "cell_type": "markdown",
   "metadata": {},
   "source": [
    "### Задание 3. Напишите функцию наподобие eval_model_reg2, но для применения L1-регуляризации."
   ]
  },
  {
   "cell_type": "code",
   "execution_count": 190,
   "metadata": {},
   "outputs": [],
   "source": [
    "def default_regression_l1(data, target, alpha=1e-3, \n",
    "                       min_dist=1e-7, max_iter=1e+5, lambda_=1e-2):\n",
    "    n = len(target)\n",
    "    W = np.array([1, 0.5])\n",
    "    delta_w = np.inf\n",
    "    iter_ = 0\n",
    "    iter_err = []\n",
    "    while (delta_w > min_dist) and (iter_ < max_iter):\n",
    "        iter_ += 1\n",
    "        y_pred = np.dot(W, data.T)\n",
    "        err = calc_mse(target, y_pred)\n",
    "        W_new = W - alpha * (1/n * 2 * (data.T @ (y_pred - target)) + lambda_)    \n",
    "        delta_w = np.abs(np.linalg.norm(W_new - W, ord=2))\n",
    "        W = W_new\n",
    "        iter_err.append(err)\n",
    "        if iter_ % 1000 == 0:\n",
    "            print(iter_, W, delta_w)\n",
    "    return W, np.array(iter_err)"
   ]
  },
  {
   "cell_type": "code",
   "execution_count": 191,
   "metadata": {},
   "outputs": [
    {
     "name": "stdout",
     "output_type": "stream",
     "text": [
      "1000 [53.16948615 58.34662955] 0.02584648753098239\n",
      "2000 [60.95781121 66.81905723] 0.00381892018281506\n",
      "3000 [62.11936055 68.06100697] 0.00056434175845722\n",
      "4000 [62.29244014 68.24320219] 8.340555716068551e-05\n",
      "5000 [62.31820996 68.26994944] 1.2327915997318715e-05\n",
      "6000 [62.32204412 68.27387864] 1.8222945964783326e-06\n",
      "7000 [62.32261423 68.27445619] 2.693862947066714e-07\n"
     ]
    }
   ],
   "source": [
    "W_l1, iter_err_l1 = default_regression_l1(data, target)"
   ]
  },
  {
   "cell_type": "code",
   "execution_count": 192,
   "metadata": {},
   "outputs": [
    {
     "data": {
      "text/plain": [
       "7519"
      ]
     },
     "execution_count": 192,
     "metadata": {},
     "output_type": "execute_result"
    }
   ],
   "source": [
    "len(iter_err_l1)"
   ]
  },
  {
   "cell_type": "code",
   "execution_count": 193,
   "metadata": {},
   "outputs": [
    {
     "data": {
      "text/plain": [
       "array([62.32267675, 68.27451895])"
      ]
     },
     "execution_count": 193,
     "metadata": {},
     "output_type": "execute_result"
    }
   ],
   "source": [
    "W_l1"
   ]
  },
  {
   "cell_type": "code",
   "execution_count": 194,
   "metadata": {},
   "outputs": [
    {
     "data": {
      "text/plain": [
       "array([62.6735955, 68.0472182])"
      ]
     },
     "execution_count": 194,
     "metadata": {},
     "output_type": "execute_result"
    }
   ],
   "source": [
    "coef"
   ]
  },
  {
   "cell_type": "markdown",
   "metadata": {},
   "source": [
    "### Задание 4. Можно ли к одному и тому же признаку применить сразу и нормализацию, и стандартизацию?"
   ]
  },
  {
   "cell_type": "markdown",
   "metadata": {},
   "source": [
    "Нет при стандартизации значения признака от 0 до 1 при нормализации от -1 до 1."
   ]
  }
 ],
 "metadata": {
  "kernelspec": {
   "display_name": "Python 3",
   "language": "python",
   "name": "python3"
  },
  "language_info": {
   "codemirror_mode": {
    "name": "ipython",
    "version": 3
   },
   "file_extension": ".py",
   "mimetype": "text/x-python",
   "name": "python",
   "nbconvert_exporter": "python",
   "pygments_lexer": "ipython3",
   "version": "3.8.0"
  },
  "pycharm": {
   "stem_cell": {
    "cell_type": "raw",
    "metadata": {
     "collapsed": false
    },
    "source": []
   }
  }
 },
 "nbformat": 4,
 "nbformat_minor": 1
}
