{
 "cells": [
  {
   "cell_type": "code",
   "execution_count": 1,
   "metadata": {
    "collapsed": true,
    "pycharm": {
     "is_executing": false
    }
   },
   "outputs": [],
   "source": [
    "import numpy as np"
   ]
  },
  {
   "cell_type": "code",
   "execution_count": 29,
   "outputs": [],
   "source": [
    "X = np.array([[1, 1, 1, 1, 1, 1, 1, 1, 1, 1],\n",
    "              [1, 1, 2, 1, 3, 0, 5, 10, 1, 2]])\n",
    "y = [45, 55, 50, 59, 65, 35, 75, 80, 50, 60]"
   ],
   "metadata": {
    "collapsed": false,
    "pycharm": {
     "name": "#%%\n",
     "is_executing": false
    }
   }
  },
  {
   "cell_type": "code",
   "execution_count": 3,
   "outputs": [
    {
     "data": {
      "text/plain": "array([47.23214286,  3.91071429])"
     },
     "metadata": {},
     "output_type": "execute_result",
     "execution_count": 3
    }
   ],
   "source": [
    "W = np.linalg.inv(X @ X.T) @ X @ y\n",
    "W"
   ],
   "metadata": {
    "collapsed": false,
    "pycharm": {
     "name": "#%%\n",
     "is_executing": false
    }
   }
  },
  {
   "cell_type": "code",
   "execution_count": 6,
   "outputs": [],
   "source": [
    "def calc_mse(y, y_pred):\n",
    "  return np.mean((y - y_pred)**2)"
   ],
   "metadata": {
    "collapsed": false,
    "pycharm": {
     "name": "#%%\n",
     "is_executing": false
    }
   }
  },
  {
   "cell_type": "code",
   "execution_count": 32,
   "outputs": [
    {
     "data": {
      "text/plain": "(array([1. , 0.5]), 0.0001)"
     },
     "metadata": {},
     "output_type": "execute_result",
     "execution_count": 32
    }
   ],
   "source": [
    "n = X.shape[1]\n",
    "alpha = 1e-4\n",
    "min_dist = 1e-7\n",
    "max_iter = 1e+6\n",
    "W = np.array([1, 0.5])\n",
    "W, alpha"
   ],
   "metadata": {
    "collapsed": false,
    "pycharm": {
     "name": "#%%\n",
     "is_executing": false
    }
   }
  },
  {
   "cell_type": "markdown",
   "source": [
    "1. Количество операций определим через условие изменения весов меньше заданного min_dist"
   ],
   "metadata": {
    "collapsed": false,
    "pycharm": {
     "name": "#%% md\n"
    }
   }
  },
  {
   "cell_type": "code",
   "execution_count": 7,
   "outputs": [
    {
     "name": "stdout",
     "text": [
      "10000 [31.64269117  6.78942579] 0.00029935385526700547\n",
      "20000 [41.72106496  4.92837698] 0.00010582555741904798\n",
      "30000 [45.28390374  4.27047154] 3.741073784722517e-05\n",
      "40000 [46.5434145   4.03789325] 1.3225191913988966e-05\n",
      "50000 [46.98866825  3.95567373] 4.675280714234305e-06\n",
      "60000 [47.14607135  3.92660805] 1.6527737290643078e-06\n",
      "70000 [47.20171544  3.91633294] 5.84277429821043e-07\n",
      "80000 [47.22138636  3.91270055] 2.0654981925858353e-07\n"
     ],
     "output_type": "stream"
    },
    {
     "data": {
      "text/plain": "array([47.22693525,  3.91167591])"
     },
     "metadata": {},
     "output_type": "execute_result",
     "execution_count": 7
    }
   ],
   "source": [
    "delta = np.inf\n",
    "iter_ = 0\n",
    "while (np.abs(delta) > min_dist) and (iter_ < max_iter):\n",
    "    iter_ += 1\n",
    "    y_pred = np.dot(W, X)\n",
    "    err = calc_mse(y, y_pred)\n",
    "    for i in range(W.shape[0]):\n",
    "        delta = alpha * (1/n * 2 * np.sum(X[i] * (y_pred - y)))\n",
    "        W[i] -= delta\n",
    "    if iter_ % 10000 == 0:\n",
    "        print(iter_, W, delta)\n",
    "W"
   ],
   "metadata": {
    "collapsed": false,
    "pycharm": {
     "name": "#%%\n",
     "is_executing": false
    }
   }
  },
  {
   "cell_type": "markdown",
   "source": [
    "2. Заменим цикл по весам матричной операцией "
   ],
   "metadata": {
    "collapsed": false,
    "pycharm": {
     "name": "#%% md\n"
    }
   }
  },
  {
   "cell_type": "code",
   "execution_count": 33,
   "outputs": [
    {
     "name": "stdout",
     "text": [
      "10000 [31.64269117  6.78942579] 0.001648536226000933\n",
      "20000 [41.72106496  4.92837698] 0.0005827794163028026\n",
      "30000 [45.28390374  4.27047154] 0.00020602025160838577\n",
      "40000 [46.5434145   4.03789325] 7.283089087471278e-05\n",
      "50000 [46.98866825  3.95567373] 2.574668569810548e-05\n",
      "60000 [47.14607135  3.92660805] 9.101794808150032e-06\n",
      "70000 [47.20171544  3.91633294] 3.2176051589880802e-06\n",
      "80000 [47.22138636  3.91270055] 1.1374660907525248e-06\n",
      "90000 [47.22834029  3.91141646] 4.0210934643143555e-07\n",
      "100000 [47.2307986   3.91096251] 1.4215098615316324e-07\n"
     ],
     "output_type": "stream"
    },
    {
     "data": {
      "text/plain": "array([47.23119726,  3.9108889 ])"
     },
     "metadata": {},
     "output_type": "execute_result",
     "execution_count": 33
    }
   ],
   "source": [
    "delta_mean = np.inf\n",
    "iter_ = 0\n",
    "while (np.abs(delta_mean) > min_dist) and (iter_ < max_iter):\n",
    "    iter_ += 1\n",
    "    y_pred = np.dot(W, X)\n",
    "    err = calc_mse(y, y_pred)\n",
    "    delta= alpha * (1/n * 2 * (X @ (y_pred - y)))    \n",
    "    delta_mean = np.linalg.norm(delta, ord=2)\n",
    "    W = W - delta\n",
    "    if iter_ % 10000 == 0:\n",
    "        print(iter_, W, delta_mean)\n",
    "W"
   ],
   "metadata": {
    "collapsed": false,
    "pycharm": {
     "name": "#%%\n",
     "is_executing": false
    }
   }
  },
  {
   "cell_type": "code",
   "execution_count": null,
   "outputs": [],
   "source": [
    "\n"
   ],
   "metadata": {
    "collapsed": false,
    "pycharm": {
     "name": "#%%\n"
    }
   }
  }
 ],
 "metadata": {
  "kernelspec": {
   "display_name": "Python 3",
   "language": "python",
   "name": "python3"
  },
  "language_info": {
   "codemirror_mode": {
    "name": "ipython",
    "version": 2
   },
   "file_extension": ".py",
   "mimetype": "text/x-python",
   "name": "python",
   "nbconvert_exporter": "python",
   "pygments_lexer": "ipython2",
   "version": "2.7.6"
  },
  "pycharm": {
   "stem_cell": {
    "cell_type": "raw",
    "source": [],
    "metadata": {
     "collapsed": false
    }
   }
  }
 },
 "nbformat": 4,
 "nbformat_minor": 0
}