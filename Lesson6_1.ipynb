{
 "cells": [
  {
   "cell_type": "code",
   "execution_count": 44,
   "metadata": {
    "pycharm": {
     "is_executing": false
    }
   },
   "outputs": [],
   "source": [
    "import numpy as np\n",
    "import matplotlib.pyplot as plt\n",
    "import seaborn as sns\n",
    "import pandas as pd\n",
    "from sklearn import datasets\n",
    "from sklearn import model_selection\n",
    "from Lesson6 import DecisionTreeRegressor"
   ]
  },
  {
   "cell_type": "code",
   "execution_count": 54,
   "outputs": [],
   "source": [
    "def calc_mse(y, y_pred):\n",
    "  return np.mean((y - y_pred)**2)\n",
    "\n",
    "\n",
    "def bias(y, z):\n",
    "    return y - z\n",
    "\n",
    "\n",
    "class GBoost:\n",
    "\n",
    "    def __init__(self, n_trees, max_depth, coefs, eta, stohastic=1.0):\n",
    "        self.n_trees = n_trees\n",
    "        self.max_depth = max_depth\n",
    "        self.coefs = coefs\n",
    "        self.eta = eta\n",
    "        self.stohastic = stohastic\n",
    "        self.trees = []\n",
    "        self.train_errors = []\n",
    "        self.test_errors = []\n",
    "    \n",
    "    def fit_predict(self, X_train, X_test, y_train, y_test):\n",
    "\n",
    "        for i in range(self.n_trees):\n",
    "\n",
    "            indx_train = np.random.randint(0, X_train.shape[0],\n",
    "                                           int(X_train.shape[0] * self.stohastic))\n",
    "            indx_test = np.random.randint(0, X_test.shape[0],\n",
    "                                          int(X_test.shape[0] * self.stohastic))\n",
    "            X_train_st = X_train[indx_train, :]\n",
    "            X_test_st = X_test[indx_test, :]\n",
    "            y_train_st = y_train[indx_train]\n",
    "            y_test_st = y_test[indx_test]\n",
    "\n",
    "            tree = DecisionTreeRegressor(min_leaf=5, max_leafs=1000, max_nodes=max_depth)\n",
    "            if len(self.trees) == 0:\n",
    "                tree.fit(X_train_st, y_train_st)\n",
    "                self.train_errors.append(calc_mse(y_train_st, self.gb_predict(X_train_st)))\n",
    "                self.test_errors.append(calc_mse(y_test_st, self.gb_predict(X_test_st)))\n",
    "            else:\n",
    "                target = self.gb_predict(X_train_st)\n",
    "                tree.fit(X_train_st, bias(y_train_st, target))\n",
    "                self.train_errors.append(calc_mse(y_train_st, self.gb_predict(X_train_st)))\n",
    "                self.test_errors.append(calc_mse(y_test_st, self.gb_predict(X_test_st)))\n",
    "            self.trees.append(tree)\n",
    "\n",
    "    def gb_predict(self, X):\n",
    "        return np.array([sum([self.eta * coef * alg.predict([x])[0] for alg, coef in zip(self.trees, self.coefs)]) for x in X])"
   ],
   "metadata": {
    "collapsed": false,
    "pycharm": {
     "name": "#%%\n",
     "is_executing": false
    }
   }
  },
  {
   "cell_type": "code",
   "execution_count": 55,
   "metadata": {
    "pycharm": {
     "is_executing": false,
     "name": "#%%\n"
    }
   },
   "outputs": [],
   "source": [
    "X, y = datasets.load_diabetes(return_X_y=True)\n",
    "X_train, X_test, y_train, y_test = model_selection.train_test_split(X, y, test_size=0.25)"
   ]
  },
  {
   "cell_type": "code",
   "execution_count": 56,
   "outputs": [],
   "source": [
    "n_trees = 30\n",
    "coefs = [1] * n_trees\n",
    "boost_list = []\n",
    "for max_depth in [1, 5, 10, 25]:\n",
    "    for eta in [1, 0.1, 0.05]:\n",
    "        boost = GBoost(n_trees, max_depth, coefs, eta, stohastic=0.5)\n",
    "        boost.fit_predict(X_train, X_test, y_train, y_test)\n",
    "        boost_list.append((max_depth, eta, boost.test_errors[-1]))"
   ],
   "metadata": {
    "collapsed": false,
    "pycharm": {
     "name": "#%%\n",
     "is_executing": false
    }
   }
  },
  {
   "cell_type": "code",
   "execution_count": 57,
   "outputs": [],
   "source": [
    "boost_list = np.array(boost_list)"
   ],
   "metadata": {
    "collapsed": false,
    "pycharm": {
     "name": "#%%\n",
     "is_executing": false
    }
   }
  },
  {
   "cell_type": "code",
   "execution_count": 58,
   "outputs": [
    {
     "data": {
      "text/plain": "<matplotlib.axes._subplots.AxesSubplot at 0x7f938138be80>"
     },
     "metadata": {},
     "output_type": "execute_result",
     "execution_count": 58
    },
    {
     "data": {
      "text/plain": "<Figure size 648x432 with 2 Axes>",
      "image/png": "[encoded data removed]"
     },
     "metadata": {},
     "output_type": "display_data"
    }
   ],
   "source": [
    "df = pd.DataFrame(data=boost_list, columns=['depth', 'eta', 'MSE'])\n",
    "df.MSE = df.MSE.astype(int)\n",
    "errors = df.pivot('depth', 'eta', 'MSE')\n",
    "f, ax = plt.subplots(figsize=(9, 6))\n",
    "sns.heatmap(errors, annot=True, fmt=\"d\", linewidths=.5, ax=ax)\n"
   ],
   "metadata": {
    "collapsed": false,
    "pycharm": {
     "name": "#%%\n",
     "is_executing": false
    }
   }
  },
  {
   "cell_type": "code",
   "execution_count": null,
   "outputs": [],
   "source": [
    "\n"
   ],
   "metadata": {
    "collapsed": false,
    "pycharm": {
     "name": "#%%\n"
    }
   }
  }
 ],
 "metadata": {
  "kernelspec": {
   "display_name": "Python 3",
   "language": "python",
   "name": "python3"
  },
  "language_info": {
   "codemirror_mode": {
    "name": "ipython",
    "version": 3
   },
   "file_extension": ".py",
   "mimetype": "text/x-python",
   "name": "python",
   "nbconvert_exporter": "python",
   "pygments_lexer": "ipython3",
   "version": "3.8.2"
  },
  "pycharm": {
   "stem_cell": {
    "cell_type": "raw",
    "source": [],
    "metadata": {
     "collapsed": false
    }
   }
  }
 },
 "nbformat": 4,
 "nbformat_minor": 1
}